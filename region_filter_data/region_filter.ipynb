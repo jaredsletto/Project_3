{
 "cells": [
  {
   "cell_type": "code",
   "execution_count": 3,
   "id": "7d69acd6",
   "metadata": {},
   "outputs": [
    {
     "ename": "FileNotFoundError",
     "evalue": "[Errno 2] No such file or directory: 'json_data.json'",
     "output_type": "error",
     "traceback": [
      "\u001b[1;31m---------------------------------------------------------------------------\u001b[0m",
      "\u001b[1;31mFileNotFoundError\u001b[0m                         Traceback (most recent call last)",
      "Cell \u001b[1;32mIn[3], line 6\u001b[0m\n\u001b[0;32m      3\u001b[0m \u001b[38;5;28;01mimport\u001b[39;00m \u001b[38;5;21;01mjson\u001b[39;00m\n\u001b[0;32m      4\u001b[0m \u001b[38;5;28;01mimport\u001b[39;00m \u001b[38;5;21;01mpandas\u001b[39;00m \u001b[38;5;28;01mas\u001b[39;00m \u001b[38;5;21;01mpd\u001b[39;00m\n\u001b[1;32m----> 6\u001b[0m data \u001b[38;5;241m=\u001b[39m json\u001b[38;5;241m.\u001b[39mload(\u001b[38;5;28;43mopen\u001b[39;49m\u001b[43m(\u001b[49m\u001b[38;5;124;43m'\u001b[39;49m\u001b[38;5;124;43mjson_data.json\u001b[39;49m\u001b[38;5;124;43m'\u001b[39;49m\u001b[43m)\u001b[49m)\n\u001b[0;32m      8\u001b[0m df \u001b[38;5;241m=\u001b[39m pd\u001b[38;5;241m.\u001b[39mDataFrame(data)\n\u001b[0;32m     10\u001b[0m df\n",
      "File \u001b[1;32m~\\anaconda3\\envs\\dev\\lib\\site-packages\\IPython\\core\\interactiveshell.py:284\u001b[0m, in \u001b[0;36m_modified_open\u001b[1;34m(file, *args, **kwargs)\u001b[0m\n\u001b[0;32m    277\u001b[0m \u001b[38;5;28;01mif\u001b[39;00m file \u001b[38;5;129;01min\u001b[39;00m {\u001b[38;5;241m0\u001b[39m, \u001b[38;5;241m1\u001b[39m, \u001b[38;5;241m2\u001b[39m}:\n\u001b[0;32m    278\u001b[0m     \u001b[38;5;28;01mraise\u001b[39;00m \u001b[38;5;167;01mValueError\u001b[39;00m(\n\u001b[0;32m    279\u001b[0m         \u001b[38;5;124mf\u001b[39m\u001b[38;5;124m\"\u001b[39m\u001b[38;5;124mIPython won\u001b[39m\u001b[38;5;124m'\u001b[39m\u001b[38;5;124mt let you open fd=\u001b[39m\u001b[38;5;132;01m{\u001b[39;00mfile\u001b[38;5;132;01m}\u001b[39;00m\u001b[38;5;124m by default \u001b[39m\u001b[38;5;124m\"\u001b[39m\n\u001b[0;32m    280\u001b[0m         \u001b[38;5;124m\"\u001b[39m\u001b[38;5;124mas it is likely to crash IPython. If you know what you are doing, \u001b[39m\u001b[38;5;124m\"\u001b[39m\n\u001b[0;32m    281\u001b[0m         \u001b[38;5;124m\"\u001b[39m\u001b[38;5;124myou can use builtins\u001b[39m\u001b[38;5;124m'\u001b[39m\u001b[38;5;124m open.\u001b[39m\u001b[38;5;124m\"\u001b[39m\n\u001b[0;32m    282\u001b[0m     )\n\u001b[1;32m--> 284\u001b[0m \u001b[38;5;28;01mreturn\u001b[39;00m io_open(file, \u001b[38;5;241m*\u001b[39margs, \u001b[38;5;241m*\u001b[39m\u001b[38;5;241m*\u001b[39mkwargs)\n",
      "\u001b[1;31mFileNotFoundError\u001b[0m: [Errno 2] No such file or directory: 'json_data.json'"
     ]
    }
   ],
   "source": [
    "## Import the data\n",
    "\n",
    "import json\n",
    "import pandas as pd\n",
    "\n",
    "data = json.load(open('json_data.json'))\n",
    "\n",
    "df = pd.DataFrame(data)\n",
    "\n",
    "df"
   ]
  },
  {
   "cell_type": "code",
   "execution_count": null,
   "id": "d4863330",
   "metadata": {},
   "outputs": [],
   "source": [
    "## delete unused columns\n",
    "\n",
    "df = df[['FacilityID', 'CampsiteLongitude', 'CampsiteLatitude']]"
   ]
  },
  {
   "cell_type": "code",
   "execution_count": null,
   "id": "b72361ae",
   "metadata": {},
   "outputs": [],
   "source": [
    "## Find center point of the continual 48 states\n",
    "# cp = 39.50, -98.35"
   ]
  },
  {
   "cell_type": "code",
   "execution_count": null,
   "id": "84fe4498",
   "metadata": {},
   "outputs": [],
   "source": [
    "## Use cp to create nw dataframe\n",
    "\n",
    "nw_df = df[df['CampsiteLatitude']>39.50]\n",
    "nw_df = df[df['CampsiteLongitude']<-98.35]\n",
    "nw_df"
   ]
  },
  {
   "cell_type": "code",
   "execution_count": null,
   "id": "a947f966",
   "metadata": {},
   "outputs": [],
   "source": [
    "## Use cp to create ne dataframe\n",
    "\n",
    "ne_df = df[df['CampsiteLatitude']>39.50]\n",
    "ne_df = df[df['CampsiteLongitude']>-98.35]\n",
    "ne_df"
   ]
  },
  {
   "cell_type": "code",
   "execution_count": null,
   "id": "abe767a9",
   "metadata": {},
   "outputs": [],
   "source": [
    "## Use cp to create sw dataframe\n",
    "\n",
    "sw_df = df[df['CampsiteLatitude']<39.50]\n",
    "sw_df = df[df['CampsiteLongitude']<-98.35]\n",
    "sw_df"
   ]
  },
  {
   "cell_type": "code",
   "execution_count": null,
   "id": "f1c95fdd",
   "metadata": {},
   "outputs": [],
   "source": [
    "## Use cp to create se dataframe\n",
    "\n",
    "se_df = df[df['CampsiteLatitude']<39.50]\n",
    "se_df = df[df['CampsiteLongitude']>-98.35]\n",
    "se_df"
   ]
  },
  {
   "cell_type": "code",
   "execution_count": null,
   "id": "8482e6b8",
   "metadata": {},
   "outputs": [],
   "source": [
    "## Export CSV Files\n",
    "\n",
    "nw_df.to_csv('NorthWest.csv', index = False)\n",
    "ne_df.to_csv('NorthEast.csv', index = False)\n",
    "sw_df.to_csv('SouthWest.csv', index = False)\n",
    "se_df.to_csv('SouthEast.csv', index = False)"
   ]
  }
 ],
 "metadata": {
  "kernelspec": {
   "display_name": "Python 3 (ipykernel)",
   "language": "python",
   "name": "python3"
  },
  "language_info": {
   "codemirror_mode": {
    "name": "ipython",
    "version": 3
   },
   "file_extension": ".py",
   "mimetype": "text/x-python",
   "name": "python",
   "nbconvert_exporter": "python",
   "pygments_lexer": "ipython3",
   "version": "3.10.11"
  }
 },
 "nbformat": 4,
 "nbformat_minor": 5
}
